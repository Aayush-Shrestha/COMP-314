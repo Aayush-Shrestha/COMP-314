{
 "cells": [
  {
   "cell_type": "code",
   "execution_count": 1,
   "id": "3a482614-5ca7-4657-b61e-c617461f978d",
   "metadata": {},
   "outputs": [],
   "source": [
    "import random"
   ]
  },
  {
   "cell_type": "code",
   "execution_count": 2,
   "id": "47fd5c78-5c30-411d-a9d9-4aaeee63d38e",
   "metadata": {},
   "outputs": [],
   "source": [
    "def generate_sorted_array(size, lower_bound, upper_bound):\n",
    "    array = [random.randint(lower_bound, upper_bound) for _ in range(size)]\n",
    "    array.sort()\n",
    "    return array"
   ]
  },
  {
   "cell_type": "code",
   "execution_count": 3,
   "id": "ed4f059a-3127-4469-90c6-c580a8dcc3f0",
   "metadata": {},
   "outputs": [],
   "source": [
    "def heapify(array, n, i):\n",
    "    largest = i  \n",
    "    left = 2 * i + 1  \n",
    "    right = 2 * i + 2 \n",
    "\n",
    "    if left < n and array[i] < array[left]:\n",
    "        largest = left\n",
    "\n",
    "    if right < n and array[largest] < array[right]:\n",
    "        largest = right\n",
    "\n",
    "    if largest != i:\n",
    "        array[i], array[largest] = array[largest], array[i]  # swap\n",
    "\n",
    "        heapify(array, n, largest)"
   ]
  },
  {
   "cell_type": "code",
   "execution_count": 4,
   "id": "bea16347-c7d5-47a2-9e43-c8cd7b588da6",
   "metadata": {},
   "outputs": [],
   "source": [
    "def create_binary_heap(array):\n",
    "    n = len(array)\n",
    "    # Build a maxheap.\n",
    "    for i in range(n // 2 - 1, -1, -1):\n",
    "        heapify(array, n, i)\n",
    "    return array"
   ]
  },
  {
   "cell_type": "code",
   "execution_count": 5,
   "id": "0a91ee42-7313-43c7-aaab-cdfa7ada50bf",
   "metadata": {},
   "outputs": [],
   "source": [
    "def binary_search(array, target):\n",
    "    low, high = 0, len(array) - 1\n",
    "    \n",
    "    while low <= high:\n",
    "        mid = (low + high) // 2\n",
    "        if array[mid] == target:\n",
    "            return mid\n",
    "        elif array[mid] < target:\n",
    "            low = mid + 1\n",
    "        else:\n",
    "            high = mid - 1\n",
    "    \n",
    "    return -1"
   ]
  },
  {
   "cell_type": "code",
   "execution_count": 6,
   "id": "b5f8f646-3da0-4b3f-9a29-f1e13bf344f3",
   "metadata": {},
   "outputs": [
    {
     "name": "stdout",
     "output_type": "stream",
     "text": [
      "Sorted Array: [12, 18, 19, 29, 32, 32, 33, 36, 41, 45, 53, 53, 54, 54, 55, 71, 83, 84, 87, 99]\n",
      "Binary Heap: [99, 87, 55, 84, 53, 54, 54, 83, 41, 45, 18, 53, 32, 19, 33, 71, 36, 29, 12, 32]\n",
      "Element 33 found at index 6 in the sorted array.\n"
     ]
    }
   ],
   "source": [
    "size = 20\n",
    "lower_bound = 1\n",
    "upper_bound = 100\n",
    "sorted_array = generate_sorted_array(size, lower_bound, upper_bound)\n",
    "    \n",
    "print(\"Sorted Array:\", sorted_array)\n",
    "binary_heap = create_binary_heap(sorted_array.copy())\n",
    "print(\"Binary Heap:\", binary_heap)\n",
    "target = random.choice(sorted_array)\n",
    "index = binary_search(sorted_array, target)\n",
    "    \n",
    "if index != -1:\n",
    "    print(f\"Element {target} found at index {index} in the sorted array.\")\n",
    "else:\n",
    "    print(f\"Element {target} not found in the sorted array.\")"
   ]
  }
 ],
 "metadata": {
  "kernelspec": {
   "display_name": "Python 3 (ipykernel)",
   "language": "python",
   "name": "python3"
  },
  "language_info": {
   "codemirror_mode": {
    "name": "ipython",
    "version": 3
   },
   "file_extension": ".py",
   "mimetype": "text/x-python",
   "name": "python",
   "nbconvert_exporter": "python",
   "pygments_lexer": "ipython3",
   "version": "3.8.10"
  }
 },
 "nbformat": 4,
 "nbformat_minor": 5
}
