{
 "cells": [
  {
   "cell_type": "code",
   "execution_count": 1,
   "id": "796678fd-e24d-49f2-8cdf-80c7278e23f7",
   "metadata": {},
   "outputs": [],
   "source": [
    "import threading\n",
    "import numpy as np"
   ]
  },
  {
   "cell_type": "code",
   "execution_count": 2,
   "id": "91136664-1929-4073-9553-ece9d0481cfa",
   "metadata": {},
   "outputs": [],
   "source": [
    "def choose_pivot(A):\n",
    "  return A[-1]\n",
    "\n",
    "def swap(A, i, j):\n",
    "  A[i], A[j] = A[j], A[i]\n",
    "\n",
    "def sequential_prefix_sum(S):\n",
    "  for i in range(1, len(S)):\n",
    "    S[i] += S[i-1]\n",
    "\n",
    "def par_quicksort(A, low, high):\n",
    "  if low < high:\n",
    "    pivot = choose_pivot(A[low:high+1])\n",
    "    p = partition(A, low, high, pivot)\n",
    "      \n",
    "    # Create threads for recursive calls\n",
    "    t1 = threading.Thread(target=par_quicksort, args=(A, low, p-1))\n",
    "    t2 = threading.Thread(target=par_quicksort, args=(A, p+1, high))\n",
    "    t1.start()\n",
    "    t2.start()\n",
    "    \n",
    "    # Wait for threads to finish\n",
    "    t1.join()\n",
    "    t2.join()\n",
    "\n",
    "def partition(A, low, high, pivot):\n",
    "  i = low - 1\n",
    "  for j in range(low, high):\n",
    "    if A[j] <= pivot:\n",
    "      i += 1\n",
    "      swap(A, i, j)\n",
    "  swap(A, i + 1, high)\n",
    "  return i + 1"
   ]
  },
  {
   "cell_type": "code",
   "execution_count": 3,
   "id": "e627faf9-167e-4407-80c4-fcd9cac38834",
   "metadata": {},
   "outputs": [
    {
     "name": "stdout",
     "output_type": "stream",
     "text": [
      "Original array:  [ 9 91 69 40 98 94 96 49  8 65 17 98 38 37 62 72 41 98 84 85 55 46 62 91\n",
      " 45 49 76 98  8 19 46 12 45 27  3 77 74 30 63 97 18 12 29 74 69 76 23 90\n",
      " 72 88 47 11 70 18 62 88 75 46 32 18 80 88 94 43 40 75 85  7 39 89 37 78\n",
      " 86 47 26]\n"
     ]
    }
   ],
   "source": [
    "A = np.random.randint(0, 100, 75)\n",
    "print(\"Original array: \", A)"
   ]
  },
  {
   "cell_type": "code",
   "execution_count": 4,
   "id": "becf2fdd-56d8-4f8e-ae70-1e3d2be035d6",
   "metadata": {},
   "outputs": [
    {
     "name": "stdout",
     "output_type": "stream",
     "text": [
      "Sorted array:  [ 3  7  8  8  9 11 12 12 17 18 18 18 19 23 26 27 29 30 32 37 37 38 39 40\n",
      " 40 41 43 45 45 46 46 46 47 47 49 49 55 62 62 62 63 65 69 69 70 72 72 74\n",
      " 74 75 75 76 76 77 78 80 84 85 85 86 88 88 88 89 90 91 91 94 94 96 97 98\n",
      " 98 98 98]\n"
     ]
    }
   ],
   "source": [
    "par_quicksort(A, 0, len(A)-1)\n",
    "print(\"Sorted array: \", A)"
   ]
  },
  {
   "cell_type": "code",
   "execution_count": null,
   "id": "3fdd94a8-03ef-4288-97de-0006708e784d",
   "metadata": {},
   "outputs": [],
   "source": []
  }
 ],
 "metadata": {
  "kernelspec": {
   "display_name": "Python 3 (ipykernel)",
   "language": "python",
   "name": "python3"
  },
  "language_info": {
   "codemirror_mode": {
    "name": "ipython",
    "version": 3
   },
   "file_extension": ".py",
   "mimetype": "text/x-python",
   "name": "python",
   "nbconvert_exporter": "python",
   "pygments_lexer": "ipython3",
   "version": "3.8.10"
  }
 },
 "nbformat": 4,
 "nbformat_minor": 5
}
